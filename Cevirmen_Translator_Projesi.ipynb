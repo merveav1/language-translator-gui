{
 "cells": [
  {
   "cell_type": "markdown",
   "id": "63cfecd7",
   "metadata": {},
   "source": [
    "### ÇEVİRMEN-TRANSLATOR-PROJESİ"
   ]
  },
  {
   "cell_type": "code",
   "execution_count": null,
   "id": "845a567f",
   "metadata": {},
   "outputs": [],
   "source": [
    "# Bu projeyi yapmak için iki tane library yüklenmelidir.\n",
    "\n",
    "#textblob\n",
    "#googletrans\n",
    "\n",
    "\n"
   ]
  },
  {
   "cell_type": "code",
   "execution_count": 1,
   "id": "5cff1606",
   "metadata": {},
   "outputs": [
    {
     "name": "stdout",
     "output_type": "stream",
     "text": [
      "Collecting textblobNote: you may need to restart the kernel to use updated packages.\n",
      "\n",
      "  Using cached textblob-0.19.0-py3-none-any.whl (624 kB)\n",
      "Collecting nltk>=3.9\n",
      "  Using cached nltk-3.9.1-py3-none-any.whl (1.5 MB)\n",
      "Requirement already satisfied: regex>=2021.8.3 in c:\\users\\merve\\anacondax\\lib\\site-packages (from nltk>=3.9->textblob) (2022.7.9)\n",
      "Requirement already satisfied: click in c:\\users\\merve\\anacondax\\lib\\site-packages (from nltk>=3.9->textblob) (8.0.4)\n",
      "Requirement already satisfied: joblib in c:\\users\\merve\\anacondax\\lib\\site-packages (from nltk>=3.9->textblob) (1.1.0)\n",
      "Requirement already satisfied: tqdm in c:\\users\\merve\\anacondax\\lib\\site-packages (from nltk>=3.9->textblob) (4.64.1)\n",
      "Requirement already satisfied: colorama in c:\\users\\merve\\anacondax\\lib\\site-packages (from click->nltk>=3.9->textblob) (0.4.5)\n",
      "Installing collected packages: nltk, textblob\n",
      "  Attempting uninstall: nltk\n",
      "    Found existing installation: nltk 3.7\n",
      "    Uninstalling nltk-3.7:\n",
      "      Successfully uninstalled nltk-3.7\n",
      "Successfully installed nltk-3.9.1 textblob-0.19.0\n"
     ]
    }
   ],
   "source": [
    "pip install textblob "
   ]
  },
  {
   "cell_type": "code",
   "execution_count": 2,
   "id": "25aa299b",
   "metadata": {},
   "outputs": [
    {
     "name": "stdout",
     "output_type": "stream",
     "text": [
      "Collecting googletrans\n",
      "  Downloading googletrans-4.0.2-py3-none-any.whl (18 kB)\n",
      "Collecting httpx[http2]>=0.27.2\n",
      "  Downloading httpx-0.28.1-py3-none-any.whl (73 kB)\n",
      "     ---------------------------------------- 73.5/73.5 kB 1.0 MB/s eta 0:00:00\n",
      "Requirement already satisfied: certifi in c:\\users\\merve\\anacondax\\lib\\site-packages (from httpx[http2]>=0.27.2->googletrans) (2022.9.14)\n",
      "Collecting httpcore==1.*\n",
      "  Downloading httpcore-1.0.9-py3-none-any.whl (78 kB)\n",
      "     ---------------------------------------- 78.8/78.8 kB 1.5 MB/s eta 0:00:00\n",
      "Requirement already satisfied: anyio in c:\\users\\merve\\anacondax\\lib\\site-packages (from httpx[http2]>=0.27.2->googletrans) (3.5.0)\n",
      "Requirement already satisfied: idna in c:\\users\\merve\\anacondax\\lib\\site-packages (from httpx[http2]>=0.27.2->googletrans) (3.3)\n",
      "Collecting h2<5,>=3\n",
      "  Downloading h2-4.2.0-py3-none-any.whl (60 kB)\n",
      "     ---------------------------------------- 61.0/61.0 kB 1.6 MB/s eta 0:00:00\n",
      "Collecting h11>=0.16\n",
      "  Downloading h11-0.16.0-py3-none-any.whl (37 kB)\n",
      "Collecting hpack<5,>=4.1\n",
      "  Downloading hpack-4.1.0-py3-none-any.whl (34 kB)\n",
      "Collecting hyperframe<7,>=6.1\n",
      "  Downloading hyperframe-6.1.0-py3-none-any.whl (13 kB)\n",
      "Requirement already satisfied: sniffio>=1.1 in c:\\users\\merve\\anacondax\\lib\\site-packages (from anyio->httpx[http2]>=0.27.2->googletrans) (1.2.0)\n",
      "Installing collected packages: hyperframe, hpack, h11, httpcore, h2, httpx, googletrans\n",
      "Successfully installed googletrans-4.0.2 h11-0.16.0 h2-4.2.0 hpack-4.1.0 httpcore-1.0.9 httpx-0.28.1 hyperframe-6.1.0\n",
      "Note: you may need to restart the kernel to use updated packages.\n"
     ]
    }
   ],
   "source": [
    "pip install googletrans"
   ]
  },
  {
   "cell_type": "code",
   "execution_count": 3,
   "id": "a67c4b51",
   "metadata": {},
   "outputs": [],
   "source": [
    "from tkinter import *\n",
    "\n",
    "form = Tk()\n",
    "form.title(\"ÇEVİRMEN\")\n",
    "form.geometry(\"900x300\")\n",
    "\n",
    "form.mainloop()\n"
   ]
  },
  {
   "cell_type": "code",
   "execution_count": 5,
   "id": "d77d0d59",
   "metadata": {},
   "outputs": [],
   "source": [
    "# V2\n",
    "\n",
    "from tkinter import *\n",
    "import googletrans\n",
    "import textblob\n",
    "from tkinter import ttk, messagebox\n",
    "\n",
    "def cevir_function():\n",
    "    pass\n",
    "\n",
    "form = Tk()\n",
    "form.title(\"ÇEVİRMEN\")\n",
    "form.geometry(\"944x300\")\n",
    "\n",
    "# Textboxları yükleyelim;\n",
    "orjinal_text = Text(form, height=10, width=40)\n",
    "orjinal_text.grid(row=0, column=0, pady=20, padx=10)\n",
    "\n",
    "translate_Button=Button(form, text='ÇEVİR BAKALIM', font=('Helvetica', 20), command=cevir_function)\n",
    "translate_Button.grid(row=0, column=1, padx=10)\n",
    "\n",
    "cevrilen_text = Text(form, height=10, width=40)\n",
    "cevrilen_text.grid(row=0, column=2, pady=20, padx=10)\n",
    "\n",
    "form.mainloop()"
   ]
  }
 ],
 "metadata": {
  "kernelspec": {
   "display_name": "Python 3 (ipykernel)",
   "language": "python",
   "name": "python3"
  },
  "language_info": {
   "codemirror_mode": {
    "name": "ipython",
    "version": 3
   },
   "file_extension": ".py",
   "mimetype": "text/x-python",
   "name": "python",
   "nbconvert_exporter": "python",
   "pygments_lexer": "ipython3",
   "version": "3.9.13"
  }
 },
 "nbformat": 4,
 "nbformat_minor": 5
}
